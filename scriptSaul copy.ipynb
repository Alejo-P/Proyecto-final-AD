{
 "cells": [
  {
   "cell_type": "code",
   "execution_count": 1,
   "id": "c711230f-957f-4ae1-a18f-0663c21ab20a",
   "metadata": {},
   "outputs": [
    {
     "name": "stdout",
     "output_type": "stream",
     "text": [
      "Requirement already satisfied: numpy in c:\\users\\megapc\\appdata\\local\\programs\\python\\python312\\lib\\site-packages (1.26.2)Note: you may need to restart the kernel to use updated packages.\n",
      "\n"
     ]
    }
   ],
   "source": [
    "pip install numpy\n"
   ]
  },
  {
   "cell_type": "code",
   "execution_count": 1,
   "id": "cdc983c1-52a2-47cd-9bbe-ddcb17a156bf",
   "metadata": {},
   "outputs": [],
   "source": [
    "import pandas as pd"
   ]
  },
  {
   "cell_type": "code",
   "execution_count": 12,
   "id": "a7d352a1-fbb9-4458-a6b0-458e6876a64e",
   "metadata": {},
   "outputs": [],
   "source": [
    "mundiales = pd.read_csv(\"Archivos/Base_de_datos/Caso estudio 2/CampeonesClubes.csv\", encoding='latin1', sep=\",\")\n"
   ]
  },
  {
   "cell_type": "code",
   "execution_count": 13,
   "id": "9ee472bb-b420-4f2f-85c4-e578fdb14af8",
   "metadata": {},
   "outputs": [
    {
     "name": "stdout",
     "output_type": "stream",
     "text": [
      "    Unnamed: 0  AÃ±o         CampeÃ³n    SubcampeÃ³n        Resultado  \\\n",
      "0            0  2023  Manchester City     Fluminense              4-0   \n",
      "1            1  2022      Real Madrid       Al-Hilal              5-3   \n",
      "2            2  2021          Chelsea      Palmeiras              2-1   \n",
      "3            3  2020           Bayern         Tigres              1-0   \n",
      "4            4  2019        Liverpool       Flamengo              1-0   \n",
      "..         ...   ...              ...            ...              ...   \n",
      "60          60  1964            Inter  Independiente  0-1 / 2-0 / 1-0   \n",
      "61          61  1963           Santos         MilÃ¡n  2-4 / 4-2 / 1-0   \n",
      "62          62  1962           Santos        Benfica        3-2 / 5-2   \n",
      "63          63  1961         PeÃ±arol        Benfica  0-1 / 5-0 / 2-1   \n",
      "64          64  1960      Real Madrid       PeÃ±arol        0-0 / 5-1   \n",
      "\n",
      "                            Sede  \n",
      "0                  Arabia SaudÃ­  \n",
      "1                      Marruecos  \n",
      "2               Emiratos Ãrabes  \n",
      "3                          Catar  \n",
      "4                          Catar  \n",
      "..                           ...  \n",
      "60  Avellaneda / MilÃ¡n / Madrid  \n",
      "61      MilÃ¡n / RÃ­o de Janeiro  \n",
      "62      RÃ­o de Janeiro / Lisboa  \n",
      "63           Lisboa / Montevideo  \n",
      "64           Montevideo / Madrid  \n",
      "\n",
      "[65 rows x 6 columns]\n"
     ]
    }
   ],
   "source": [
    "print(mundiales)"
   ]
  },
  {
   "cell_type": "code",
   "execution_count": 14,
   "id": "c38d511b-59df-488a-a4bb-5a80a65ab376",
   "metadata": {},
   "outputs": [
    {
     "data": {
      "text/plain": [
       "Unnamed: 0     0\n",
       "AÃ±o           0\n",
       "CampeÃ³n       0\n",
       "SubcampeÃ³n    0\n",
       "Resultado      0\n",
       "Sede           0\n",
       "dtype: int64"
      ]
     },
     "execution_count": 14,
     "metadata": {},
     "output_type": "execute_result"
    }
   ],
   "source": [
    "mundiales.isnull().sum()"
   ]
  },
  {
   "cell_type": "code",
   "execution_count": 32,
   "id": "a9bd9213-48b6-4685-9b13-2f7decafe595",
   "metadata": {},
   "outputs": [],
   "source": [
    "mundiales.to_csv('CampoeonesClubes.csv')\n"
   ]
  },
  {
   "cell_type": "code",
   "execution_count": null,
   "id": "7a7b9fa9-6fd3-4206-be9e-d27fe1f669ff",
   "metadata": {},
   "outputs": [],
   "source": []
  }
 ],
 "metadata": {
  "kernelspec": {
   "display_name": "Python 3 (ipykernel)",
   "language": "python",
   "name": "python3"
  },
  "language_info": {
   "codemirror_mode": {
    "name": "ipython",
    "version": 3
   },
   "file_extension": ".py",
   "mimetype": "text/x-python",
   "name": "python",
   "nbconvert_exporter": "python",
   "pygments_lexer": "ipython3",
   "version": "3.12.2"
  }
 },
 "nbformat": 4,
 "nbformat_minor": 5
}
