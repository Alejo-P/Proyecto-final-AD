{
 "cells": [
  {
   "cell_type": "markdown",
   "metadata": {},
   "source": [
    "CASO 3: #Eventos en el mundo"
   ]
  },
  {
   "cell_type": "markdown",
   "metadata": {},
   "source": []
  },
  {
   "cell_type": "code",
   "execution_count": 1,
   "metadata": {},
   "outputs": [],
   "source": [
    "import pandas as pd"
   ]
  },
  {
   "cell_type": "code",
   "execution_count": 14,
   "metadata": {},
   "outputs": [
    {
     "data": {
      "text/html": [
       "<div>\n",
       "<style scoped>\n",
       "    .dataframe tbody tr th:only-of-type {\n",
       "        vertical-align: middle;\n",
       "    }\n",
       "\n",
       "    .dataframe tbody tr th {\n",
       "        vertical-align: top;\n",
       "    }\n",
       "\n",
       "    .dataframe thead th {\n",
       "        text-align: right;\n",
       "    }\n",
       "</style>\n",
       "<table border=\"1\" class=\"dataframe\">\n",
       "  <thead>\n",
       "    <tr style=\"text-align: right;\">\n",
       "      <th></th>\n",
       "      <th>Year</th>\n",
       "      <th>Place</th>\n",
       "      <th>Athlete</th>\n",
       "      <th>Country</th>\n",
       "      <th>Time</th>\n",
       "      <th>Gender</th>\n",
       "    </tr>\n",
       "  </thead>\n",
       "  <tbody>\n",
       "    <tr>\n",
       "      <th>0</th>\n",
       "      <td>2019</td>\n",
       "      <td>1</td>\n",
       "      <td>Jan Frodeno</td>\n",
       "      <td>GER</td>\n",
       "      <td>7:51:13</td>\n",
       "      <td>Male</td>\n",
       "    </tr>\n",
       "    <tr>\n",
       "      <th>1</th>\n",
       "      <td>2018</td>\n",
       "      <td>1</td>\n",
       "      <td>Patrick Lange</td>\n",
       "      <td>GER</td>\n",
       "      <td>7:52:39</td>\n",
       "      <td>Male</td>\n",
       "    </tr>\n",
       "    <tr>\n",
       "      <th>2</th>\n",
       "      <td>2017</td>\n",
       "      <td>1</td>\n",
       "      <td>Patrick Lange</td>\n",
       "      <td>GER</td>\n",
       "      <td>8:01:40</td>\n",
       "      <td>Male</td>\n",
       "    </tr>\n",
       "    <tr>\n",
       "      <th>3</th>\n",
       "      <td>2016</td>\n",
       "      <td>1</td>\n",
       "      <td>Jan Frodeno</td>\n",
       "      <td>GER</td>\n",
       "      <td>8:06:30</td>\n",
       "      <td>Male</td>\n",
       "    </tr>\n",
       "    <tr>\n",
       "      <th>4</th>\n",
       "      <td>2015</td>\n",
       "      <td>1</td>\n",
       "      <td>Jan Frodeno</td>\n",
       "      <td>GER</td>\n",
       "      <td>8:14:40</td>\n",
       "      <td>Male</td>\n",
       "    </tr>\n",
       "    <tr>\n",
       "      <th>...</th>\n",
       "      <td>...</td>\n",
       "      <td>...</td>\n",
       "      <td>...</td>\n",
       "      <td>...</td>\n",
       "      <td>...</td>\n",
       "      <td>...</td>\n",
       "    </tr>\n",
       "    <tr>\n",
       "      <th>247</th>\n",
       "      <td>1984</td>\n",
       "      <td>3</td>\n",
       "      <td>Julie Olson</td>\n",
       "      <td>USA</td>\n",
       "      <td>10:38:10</td>\n",
       "      <td>Female</td>\n",
       "    </tr>\n",
       "    <tr>\n",
       "      <th>248</th>\n",
       "      <td>1983</td>\n",
       "      <td>3</td>\n",
       "      <td>Eva Ueltzen</td>\n",
       "      <td>USA</td>\n",
       "      <td>11:01:49</td>\n",
       "      <td>Female</td>\n",
       "    </tr>\n",
       "    <tr>\n",
       "      <th>249</th>\n",
       "      <td>1982</td>\n",
       "      <td>3</td>\n",
       "      <td>Sally Edwards</td>\n",
       "      <td>USA</td>\n",
       "      <td>11:03:00</td>\n",
       "      <td>Female</td>\n",
       "    </tr>\n",
       "    <tr>\n",
       "      <th>250</th>\n",
       "      <td>1982</td>\n",
       "      <td>3</td>\n",
       "      <td>Lyn Brooks</td>\n",
       "      <td>USA</td>\n",
       "      <td>11:51:00</td>\n",
       "      <td>Female</td>\n",
       "    </tr>\n",
       "    <tr>\n",
       "      <th>251</th>\n",
       "      <td>1981</td>\n",
       "      <td>3</td>\n",
       "      <td>Lyn Brooks</td>\n",
       "      <td>USA</td>\n",
       "      <td>12:42:15</td>\n",
       "      <td>Female</td>\n",
       "    </tr>\n",
       "  </tbody>\n",
       "</table>\n",
       "<p>252 rows × 6 columns</p>\n",
       "</div>"
      ],
      "text/plain": [
       "     Year  Place        Athlete Country      Time  Gender\n",
       "0    2019      1    Jan Frodeno     GER   7:51:13    Male\n",
       "1    2018      1  Patrick Lange     GER   7:52:39    Male\n",
       "2    2017      1  Patrick Lange     GER   8:01:40    Male\n",
       "3    2016      1    Jan Frodeno     GER   8:06:30    Male\n",
       "4    2015      1    Jan Frodeno     GER   8:14:40    Male\n",
       "..    ...    ...            ...     ...       ...     ...\n",
       "247  1984      3    Julie Olson     USA  10:38:10  Female\n",
       "248  1983      3    Eva Ueltzen     USA  11:01:49  Female\n",
       "249  1982      3  Sally Edwards     USA  11:03:00  Female\n",
       "250  1982      3     Lyn Brooks     USA  11:51:00  Female\n",
       "251  1981      3     Lyn Brooks     USA  12:42:15  Female\n",
       "\n",
       "[252 rows x 6 columns]"
      ]
     },
     "execution_count": 14,
     "metadata": {},
     "output_type": "execute_result"
    }
   ],
   "source": [
    "s = pd.read_csv(\"C:\\\\Users\\\\USER\\\\Documents\\\\GitHub\\\\Proyecto-final-AD\\\\Archivos\\\\Caso de estudio 3\\\\Ironman World Championship.csv\", encoding='latin-1')\n",
    "s #Muestra el registro"
   ]
  },
  {
   "cell_type": "code",
   "execution_count": 15,
   "metadata": {},
   "outputs": [
    {
     "data": {
      "text/plain": [
       "Year       0\n",
       "Place      0\n",
       "Athlete    0\n",
       "Country    0\n",
       "Time       0\n",
       "Gender     0\n",
       "dtype: int64"
      ]
     },
     "execution_count": 15,
     "metadata": {},
     "output_type": "execute_result"
    }
   ],
   "source": [
    "s.isnull().sum()"
   ]
  },
  {
   "cell_type": "code",
   "execution_count": 17,
   "metadata": {},
   "outputs": [
    {
     "name": "stdout",
     "output_type": "stream",
     "text": [
      "Archivo  generado con éxito.\n"
     ]
    }
   ],
   "source": [
    "s.to_csv(\"El triatlón Ironman.csv\")\n",
    "print(\"Archivo  generado con éxito.\")"
   ]
  },
  {
   "cell_type": "code",
   "execution_count": null,
   "metadata": {},
   "outputs": [],
   "source": []
  }
 ],
 "metadata": {
  "kernelspec": {
   "display_name": "Python 3",
   "language": "python",
   "name": "python3"
  },
  "language_info": {
   "codemirror_mode": {
    "name": "ipython",
    "version": 3
   },
   "file_extension": ".py",
   "mimetype": "text/x-python",
   "name": "python",
   "nbconvert_exporter": "python",
   "pygments_lexer": "ipython3",
   "version": "3.12.0"
  }
 },
 "nbformat": 4,
 "nbformat_minor": 2
}
