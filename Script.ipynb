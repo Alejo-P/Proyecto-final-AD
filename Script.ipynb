{
 "cells": [
  {
   "cell_type": "code",
   "execution_count": 20,
   "metadata": {},
   "outputs": [],
   "source": [
    "import pandas as pd\n",
    "import numpy as np\n",
    "from librerias.ConexionBDD import ConexionMySQL\n",
    "import sqlite3\n",
    "import os"
   ]
  },
  {
   "cell_type": "code",
   "execution_count": 21,
   "metadata": {},
   "outputs": [],
   "source": [
    "# Ruta donde se guardaran los archivos tratados segun el caso de estudio\n",
    "ruta_guardado_caso1 = os.getcwd()+\"/Archivos/Base_de_datos/Caso estudio 1/\"\n",
    "ruta_guardado_caso2 = os.getcwd()+\"/Archivos/Base_de_datos/Caso estudio 2/\"\n",
    "ruta_guardado_caso3 = os.getcwd()+\"/Archivos/Base_de_datos/Caso estudio 3/\"\n",
    "ruta_guardado_caso4 = os.getcwd()+\"/Archivos/Base_de_datos/Caso estudio 4/\"\n",
    "ruta_guardado_caso5 = os.getcwd()+\"/Archivos/Base_de_datos/Caso estudio 5/\"\n",
    "ruta_guardado_caso6 = os.getcwd()+\"/Archivos/Base_de_datos/Caso estudio 6/\"\n",
    "\n",
    "# Rutas para leer los archivos descargados de una fuente de datos segun los casos de estudio\n",
    "ruta_caso1 =os.getcwd()+\"/Archivos/Caso de estudio 1/\"\n",
    "ruta_caso2 =os.getcwd()+\"/Archivos/Caso de estudio 2/\"\n",
    "ruta_caso3 =os.getcwd()+\"/Archivos/Caso de estudio 3/\"\n",
    "ruta_caso4 =os.getcwd()+\"/Archivos/Caso de estudio 4/\"\n",
    "ruta_caso5 =os.getcwd()+\"/Archivos/Caso de estudio 5/\"\n",
    "ruta_caso6 =os.getcwd()+\"/Archivos/Caso de estudio 6/\""
   ]
  },
  {
   "cell_type": "markdown",
   "metadata": {},
   "source": [
    "_Modificar los archivos_"
   ]
  },
  {
   "cell_type": "markdown",
   "metadata": {},
   "source": [
    "_Caso 1_"
   ]
  },
  {
   "cell_type": "code",
   "execution_count": 22,
   "metadata": {},
   "outputs": [
    {
     "data": {
      "text/plain": [
       "Tiktoker name    0\n",
       "Tiktok name      1\n",
       "Subscribers      0\n",
       "Views avg.       0\n",
       "Likes avg.       0\n",
       "Comments avg.    0\n",
       "Shares avg.      0\n",
       "dtype: int64"
      ]
     },
     "execution_count": 22,
     "metadata": {},
     "output_type": "execute_result"
    }
   ],
   "source": [
    "# Cargar los datos del archivo para el caso 1\n",
    "Datos = pd.read_csv(ruta_caso1+\"social media influencers - Tiktok sep 2022.csv\", delimiter=\",\", index_col=\"S.no\")\n",
    "Datos.isnull().sum()"
   ]
  },
  {
   "cell_type": "code",
   "execution_count": 23,
   "metadata": {},
   "outputs": [
    {
     "data": {
      "text/html": [
       "<div>\n",
       "<style scoped>\n",
       "    .dataframe tbody tr th:only-of-type {\n",
       "        vertical-align: middle;\n",
       "    }\n",
       "\n",
       "    .dataframe tbody tr th {\n",
       "        vertical-align: top;\n",
       "    }\n",
       "\n",
       "    .dataframe thead th {\n",
       "        text-align: right;\n",
       "    }\n",
       "</style>\n",
       "<table border=\"1\" class=\"dataframe\">\n",
       "  <thead>\n",
       "    <tr style=\"text-align: right;\">\n",
       "      <th></th>\n",
       "      <th>Tiktoker name</th>\n",
       "      <th>Tiktok name</th>\n",
       "      <th>Subscribers</th>\n",
       "      <th>Views avg.</th>\n",
       "      <th>Likes avg.</th>\n",
       "      <th>Comments avg.</th>\n",
       "      <th>Shares avg.</th>\n",
       "    </tr>\n",
       "    <tr>\n",
       "      <th>S.no</th>\n",
       "      <th></th>\n",
       "      <th></th>\n",
       "      <th></th>\n",
       "      <th></th>\n",
       "      <th></th>\n",
       "      <th></th>\n",
       "      <th></th>\n",
       "    </tr>\n",
       "  </thead>\n",
       "  <tbody>\n",
       "    <tr>\n",
       "      <th>1</th>\n",
       "      <td>jypestraykids</td>\n",
       "      <td>Stray Kids</td>\n",
       "      <td>13.8M</td>\n",
       "      <td>6.4M</td>\n",
       "      <td>2.3M</td>\n",
       "      <td>50.2K</td>\n",
       "      <td>34.2K</td>\n",
       "    </tr>\n",
       "    <tr>\n",
       "      <th>2</th>\n",
       "      <td>khaby.lame</td>\n",
       "      <td>Khabane lame</td>\n",
       "      <td>149.2M</td>\n",
       "      <td>17.3M</td>\n",
       "      <td>2.3M</td>\n",
       "      <td>15.2K</td>\n",
       "      <td>8.7K</td>\n",
       "    </tr>\n",
       "    <tr>\n",
       "      <th>3</th>\n",
       "      <td>scarlettsspam2</td>\n",
       "      <td>scarlett</td>\n",
       "      <td>2.1M</td>\n",
       "      <td>17.9M</td>\n",
       "      <td>845.8K</td>\n",
       "      <td>53.9K</td>\n",
       "      <td>6.3K</td>\n",
       "    </tr>\n",
       "    <tr>\n",
       "      <th>4</th>\n",
       "      <td>addisonre</td>\n",
       "      <td>Addison Rae</td>\n",
       "      <td>88.7M</td>\n",
       "      <td>22M</td>\n",
       "      <td>906.6K</td>\n",
       "      <td>7.6K</td>\n",
       "      <td>26.2K</td>\n",
       "    </tr>\n",
       "    <tr>\n",
       "      <th>5</th>\n",
       "      <td>belindatok</td>\n",
       "      <td>Belinda</td>\n",
       "      <td>4.8M</td>\n",
       "      <td>14.2M</td>\n",
       "      <td>1.5M</td>\n",
       "      <td>14.5K</td>\n",
       "      <td>15.3K</td>\n",
       "    </tr>\n",
       "    <tr>\n",
       "      <th>6</th>\n",
       "      <td>onwardwanna</td>\n",
       "      <td>Wanna🥊</td>\n",
       "      <td>7.5M</td>\n",
       "      <td>12M</td>\n",
       "      <td>2M</td>\n",
       "      <td>20.4K</td>\n",
       "      <td>4.2K</td>\n",
       "    </tr>\n",
       "    <tr>\n",
       "      <th>7</th>\n",
       "      <td>therock</td>\n",
       "      <td>The Rock</td>\n",
       "      <td>55.4M</td>\n",
       "      <td>13.1M</td>\n",
       "      <td>1.5M</td>\n",
       "      <td>14.3K</td>\n",
       "      <td>11.9K</td>\n",
       "    </tr>\n",
       "    <tr>\n",
       "      <th>8</th>\n",
       "      <td>bizarrap</td>\n",
       "      <td>bzrp</td>\n",
       "      <td>5.8M</td>\n",
       "      <td>16.2M</td>\n",
       "      <td>2.7M</td>\n",
       "      <td>4.2K</td>\n",
       "      <td>6.9K</td>\n",
       "    </tr>\n",
       "    <tr>\n",
       "      <th>9</th>\n",
       "      <td>landonbarkerr</td>\n",
       "      <td>Landon Barker</td>\n",
       "      <td>3.8M</td>\n",
       "      <td>11.7M</td>\n",
       "      <td>1.2M</td>\n",
       "      <td>19.1K</td>\n",
       "      <td>15.2K</td>\n",
       "    </tr>\n",
       "    <tr>\n",
       "      <th>10</th>\n",
       "      <td>mrbeast</td>\n",
       "      <td>MrBeast</td>\n",
       "      <td>42.2M</td>\n",
       "      <td>13M</td>\n",
       "      <td>1.7M</td>\n",
       "      <td>17.2K</td>\n",
       "      <td>2.1K</td>\n",
       "    </tr>\n",
       "    <tr>\n",
       "      <th>11</th>\n",
       "      <td>charlidamelio</td>\n",
       "      <td>charli d’amelio</td>\n",
       "      <td>146.2M</td>\n",
       "      <td>15.2M</td>\n",
       "      <td>959.4K</td>\n",
       "      <td>20.8K</td>\n",
       "      <td>4.6K</td>\n",
       "    </tr>\n",
       "    <tr>\n",
       "      <th>12</th>\n",
       "      <td>amauryguichon</td>\n",
       "      <td>Amaury Guichon</td>\n",
       "      <td>14.5M</td>\n",
       "      <td>11.4M</td>\n",
       "      <td>1.5M</td>\n",
       "      <td>7.2K</td>\n",
       "      <td>11.8K</td>\n",
       "    </tr>\n",
       "    <tr>\n",
       "      <th>13</th>\n",
       "      <td>jetbentlee</td>\n",
       "      <td>Jet</td>\n",
       "      <td>3.9M</td>\n",
       "      <td>12.4M</td>\n",
       "      <td>2.2M</td>\n",
       "      <td>3.6K</td>\n",
       "      <td>6.6K</td>\n",
       "    </tr>\n",
       "    <tr>\n",
       "      <th>14</th>\n",
       "      <td>kervo.dolo</td>\n",
       "      <td>Kervo.dolo</td>\n",
       "      <td>10.3M</td>\n",
       "      <td>5.7M</td>\n",
       "      <td>1.3M</td>\n",
       "      <td>7.9K</td>\n",
       "      <td>27.6K</td>\n",
       "    </tr>\n",
       "    <tr>\n",
       "      <th>15</th>\n",
       "      <td>ttdramanews</td>\n",
       "      <td>TT Drama Layla</td>\n",
       "      <td>856.3K</td>\n",
       "      <td>6.1M</td>\n",
       "      <td>1.1M</td>\n",
       "      <td>16.6K</td>\n",
       "      <td>17.7K</td>\n",
       "    </tr>\n",
       "    <tr>\n",
       "      <th>16</th>\n",
       "      <td>mishayoung</td>\n",
       "      <td>Миша Городецкий 🇺🇦</td>\n",
       "      <td>4M</td>\n",
       "      <td>10.8M</td>\n",
       "      <td>680K</td>\n",
       "      <td>5.7K</td>\n",
       "      <td>22.5K</td>\n",
       "    </tr>\n",
       "    <tr>\n",
       "      <th>17</th>\n",
       "      <td>domelipa</td>\n",
       "      <td>domelipa</td>\n",
       "      <td>58.1M</td>\n",
       "      <td>10.4M</td>\n",
       "      <td>1.5M</td>\n",
       "      <td>9.1K</td>\n",
       "      <td>3.5K</td>\n",
       "    </tr>\n",
       "  </tbody>\n",
       "</table>\n",
       "</div>"
      ],
      "text/plain": [
       "       Tiktoker name         Tiktok name Subscribers Views avg. Likes avg.  \\\n",
       "S.no                                                                         \n",
       "1      jypestraykids          Stray Kids       13.8M       6.4M       2.3M   \n",
       "2         khaby.lame        Khabane lame      149.2M      17.3M       2.3M   \n",
       "3     scarlettsspam2            scarlett        2.1M      17.9M     845.8K   \n",
       "4          addisonre         Addison Rae       88.7M        22M     906.6K   \n",
       "5         belindatok             Belinda        4.8M      14.2M       1.5M   \n",
       "6        onwardwanna              Wanna🥊        7.5M        12M         2M   \n",
       "7            therock            The Rock       55.4M      13.1M       1.5M   \n",
       "8           bizarrap                bzrp        5.8M      16.2M       2.7M   \n",
       "9      landonbarkerr       Landon Barker        3.8M      11.7M       1.2M   \n",
       "10           mrbeast             MrBeast       42.2M        13M       1.7M   \n",
       "11     charlidamelio     charli d’amelio      146.2M      15.2M     959.4K   \n",
       "12     amauryguichon      Amaury Guichon       14.5M      11.4M       1.5M   \n",
       "13        jetbentlee                 Jet        3.9M      12.4M       2.2M   \n",
       "14        kervo.dolo          Kervo.dolo       10.3M       5.7M       1.3M   \n",
       "15       ttdramanews      TT Drama Layla      856.3K       6.1M       1.1M   \n",
       "16        mishayoung  Миша Городецкий 🇺🇦          4M      10.8M       680K   \n",
       "17          domelipa            domelipa       58.1M      10.4M       1.5M   \n",
       "\n",
       "     Comments avg. Shares avg.  \n",
       "S.no                            \n",
       "1            50.2K       34.2K  \n",
       "2            15.2K        8.7K  \n",
       "3            53.9K        6.3K  \n",
       "4             7.6K       26.2K  \n",
       "5            14.5K       15.3K  \n",
       "6            20.4K        4.2K  \n",
       "7            14.3K       11.9K  \n",
       "8             4.2K        6.9K  \n",
       "9            19.1K       15.2K  \n",
       "10           17.2K        2.1K  \n",
       "11           20.8K        4.6K  \n",
       "12            7.2K       11.8K  \n",
       "13            3.6K        6.6K  \n",
       "14            7.9K       27.6K  \n",
       "15           16.6K       17.7K  \n",
       "16            5.7K       22.5K  \n",
       "17            9.1K        3.5K  "
      ]
     },
     "execution_count": 23,
     "metadata": {},
     "output_type": "execute_result"
    }
   ],
   "source": [
    "Datos.head(17)"
   ]
  },
  {
   "cell_type": "code",
   "execution_count": 24,
   "metadata": {},
   "outputs": [
    {
     "data": {
      "text/plain": [
       "(1000, 7)"
      ]
     },
     "execution_count": 24,
     "metadata": {},
     "output_type": "execute_result"
    }
   ],
   "source": [
    "Datos.shape"
   ]
  },
  {
   "cell_type": "code",
   "execution_count": 25,
   "metadata": {},
   "outputs": [
    {
     "data": {
      "text/plain": [
       "Tiktoker name    0\n",
       "Tiktok name      0\n",
       "Subscribers      0\n",
       "Views avg.       0\n",
       "Likes avg.       0\n",
       "Comments avg.    0\n",
       "Shares avg.      0\n",
       "dtype: int64"
      ]
     },
     "execution_count": 25,
     "metadata": {},
     "output_type": "execute_result"
    }
   ],
   "source": [
    "# Rellenar valores nulos\n",
    "Nombres = Datos[\"Tiktok name\"]\n",
    "Datos_no_nulos = Datos[\"Tiktok name\"].dropna().to_list()\n",
    "for clave, valor in Nombres.items():\n",
    "    if pd.isna(valor):\n",
    "        indice = np.random.randint(0, len(Datos_no_nulos))\n",
    "        Datos.at[clave, \"Tiktok name\"] = Datos_no_nulos[indice]\n",
    "Datos.isnull().sum()"
   ]
  },
  {
   "cell_type": "code",
   "execution_count": 26,
   "metadata": {},
   "outputs": [],
   "source": [
    "# Guardar la informacion en un archivo CSV\n",
    "Datos.to_csv(ruta_guardado_caso1+\"Set_Datos.csv\",index=False, encoding=\"utf-8\")"
   ]
  },
  {
   "cell_type": "code",
   "execution_count": 27,
   "metadata": {},
   "outputs": [],
   "source": [
    "# Guardar la informacion a una base de datos SQLite\n",
    "conn = sqlite3.connect(ruta_guardado_caso1+\"Social_Media_Tiktok.db\")\n",
    "cursor = conn.cursor()\n",
    "Datos.to_sql(name=\"smi_tiktok\", con=conn, if_exists=\"replace\")\n",
    "conn.commit()\n",
    "conn.close()"
   ]
  },
  {
   "cell_type": "markdown",
   "metadata": {},
   "source": [
    "_Caso 4_"
   ]
  },
  {
   "cell_type": "code",
   "execution_count": 28,
   "metadata": {},
   "outputs": [
    {
     "data": {
      "text/plain": [
       "report_date                      0\n",
       "county                           0\n",
       "county_population              348\n",
       "cumulative_cases                 0\n",
       "cumulative_tests_reportable      0\n",
       "cumulative_deaths                0\n",
       "cases_7days                      0\n",
       "tests_reportable_7days           0\n",
       "positive_naat_7days              0\n",
       "tests_naat_7days                 0\n",
       "naat_positivity_7days          153\n",
       "cumulative_positive_naat         0\n",
       "cumulative_tests_naat            0\n",
       "positive_ag_7days                0\n",
       "census_today                   348\n",
       "fullyvax_today                 348\n",
       "partialvax_today               348\n",
       "nonvax_today                   348\n",
       "adddose_today                  348\n",
       "census_7days_ago               348\n",
       "census_change                  348\n",
       "census_not_fully_vax           348\n",
       "census_pct_not_fully_vax       539\n",
       "case_rate_weekly               348\n",
       "fips                           348\n",
       "data_updated                     0\n",
       "dtype: int64"
      ]
     },
     "execution_count": 28,
     "metadata": {},
     "output_type": "execute_result"
    }
   ],
   "source": [
    "DatosC19_2=pd.read_csv(ruta_caso6+\"COVID-19_County_Level_Data_-_Archive_20240301.csv\", sep=\",\")\n",
    "DatosC19_2.isnull().sum()"
   ]
  },
  {
   "cell_type": "code",
   "execution_count": 29,
   "metadata": {},
   "outputs": [
    {
     "data": {
      "text/plain": [
       "report_date                      0\n",
       "county                           0\n",
       "county_population                0\n",
       "cumulative_cases                 0\n",
       "cumulative_tests_reportable      0\n",
       "cumulative_deaths                0\n",
       "cases_7days                      0\n",
       "tests_reportable_7days           0\n",
       "positive_naat_7days              0\n",
       "tests_naat_7days                 0\n",
       "naat_positivity_7days          153\n",
       "cumulative_positive_naat         0\n",
       "cumulative_tests_naat            0\n",
       "positive_ag_7days                0\n",
       "census_today                   348\n",
       "fullyvax_today                 348\n",
       "partialvax_today               348\n",
       "nonvax_today                   348\n",
       "adddose_today                  348\n",
       "census_7days_ago               348\n",
       "census_change                  348\n",
       "census_not_fully_vax           348\n",
       "census_pct_not_fully_vax       539\n",
       "case_rate_weekly               348\n",
       "fips                           348\n",
       "data_updated                     0\n",
       "dtype: int64"
      ]
     },
     "execution_count": 29,
     "metadata": {},
     "output_type": "execute_result"
    }
   ],
   "source": [
    "Poblacion = DatosC19_2[\"county_population\"]\n",
    "Valores_no_nulos = Poblacion.dropna().to_list()\n",
    "# Rellenar valores nulos\n",
    "for clave, valor in Poblacion.items():\n",
    "    if pd.isna(valor):\n",
    "        indice = np.random.randint(0, len(Valores_no_nulos))\n",
    "        DatosC19_2.at[clave, \"county_population\"] = Valores_no_nulos[indice]\n",
    "\n",
    "# Verificar valores nulos\n",
    "DatosC19_2.isnull().sum()"
   ]
  },
  {
   "cell_type": "code",
   "execution_count": 30,
   "metadata": {},
   "outputs": [
    {
     "data": {
      "text/plain": [
       "report_date                      0\n",
       "county                           0\n",
       "county_population                0\n",
       "cumulative_cases                 0\n",
       "cumulative_tests_reportable      0\n",
       "cumulative_deaths                0\n",
       "cases_7days                      0\n",
       "tests_reportable_7days           0\n",
       "positive_naat_7days              0\n",
       "tests_naat_7days                 0\n",
       "naat_positivity_7days            0\n",
       "cumulative_positive_naat         0\n",
       "cumulative_tests_naat            0\n",
       "positive_ag_7days                0\n",
       "census_today                   348\n",
       "fullyvax_today                 348\n",
       "partialvax_today               348\n",
       "nonvax_today                   348\n",
       "adddose_today                  348\n",
       "census_7days_ago               348\n",
       "census_change                  348\n",
       "census_not_fully_vax           348\n",
       "census_pct_not_fully_vax       539\n",
       "case_rate_weekly               348\n",
       "fips                           348\n",
       "data_updated                     0\n",
       "dtype: int64"
      ]
     },
     "execution_count": 30,
     "metadata": {},
     "output_type": "execute_result"
    }
   ],
   "source": [
    "Positividad = DatosC19_2[\"naat_positivity_7days\"]\n",
    "Valores_no_nulos = Positividad.dropna().to_list()\n",
    "promedio = np.mean(Valores_no_nulos)  # Calculamos el promedio de los valores no nulos\n",
    "# Rellenar valores nulos\n",
    "for clave, valor in Positividad.items():\n",
    "    if pd.isna(valor):\n",
    "        DatosC19_2.at[clave, \"naat_positivity_7days\"] = promedio\n",
    "# Verificar valores nulos\n",
    "DatosC19_2.isnull().sum()"
   ]
  },
  {
   "cell_type": "code",
   "execution_count": 31,
   "metadata": {},
   "outputs": [
    {
     "data": {
      "text/plain": [
       "report_date                      0\n",
       "county                           0\n",
       "county_population                0\n",
       "cumulative_cases                 0\n",
       "cumulative_tests_reportable      0\n",
       "cumulative_deaths                0\n",
       "cases_7days                      0\n",
       "tests_reportable_7days           0\n",
       "positive_naat_7days              0\n",
       "tests_naat_7days                 0\n",
       "naat_positivity_7days            0\n",
       "cumulative_positive_naat         0\n",
       "cumulative_tests_naat            0\n",
       "positive_ag_7days                0\n",
       "census_today                     0\n",
       "fullyvax_today                 348\n",
       "partialvax_today               348\n",
       "nonvax_today                   348\n",
       "adddose_today                  348\n",
       "census_7days_ago               348\n",
       "census_change                  348\n",
       "census_not_fully_vax           348\n",
       "census_pct_not_fully_vax       539\n",
       "case_rate_weekly               348\n",
       "fips                           348\n",
       "data_updated                     0\n",
       "dtype: int64"
      ]
     },
     "execution_count": 31,
     "metadata": {},
     "output_type": "execute_result"
    }
   ],
   "source": [
    "CensoHoy = DatosC19_2[\"census_today\"]\n",
    "Valores_no_nulos = CensoHoy.dropna().to_list()\n",
    "promedio = np.mean(Valores_no_nulos)  # Calculamos el promedio de los valores no nulos del DataFrame\n",
    "# Rellenar valores nulos con el valor medio\n",
    "for clave, valor in CensoHoy.items():\n",
    "    if pd.isna(valor):\n",
    "        DatosC19_2.at[clave, \"census_today\"] = promedio\n",
    "# Verificar valores nulos\n",
    "DatosC19_2.isnull().sum()"
   ]
  },
  {
   "cell_type": "code",
   "execution_count": 32,
   "metadata": {},
   "outputs": [
    {
     "data": {
      "text/plain": [
       "report_date                      0\n",
       "county                           0\n",
       "county_population                0\n",
       "cumulative_cases                 0\n",
       "cumulative_tests_reportable      0\n",
       "cumulative_deaths                0\n",
       "cases_7days                      0\n",
       "tests_reportable_7days           0\n",
       "positive_naat_7days              0\n",
       "tests_naat_7days                 0\n",
       "naat_positivity_7days            0\n",
       "cumulative_positive_naat         0\n",
       "cumulative_tests_naat            0\n",
       "positive_ag_7days                0\n",
       "census_today                     0\n",
       "fullyvax_today                   0\n",
       "partialvax_today               348\n",
       "nonvax_today                   348\n",
       "adddose_today                  348\n",
       "census_7days_ago               348\n",
       "census_change                  348\n",
       "census_not_fully_vax           348\n",
       "census_pct_not_fully_vax       539\n",
       "case_rate_weekly               348\n",
       "fips                           348\n",
       "data_updated                     0\n",
       "dtype: int64"
      ]
     },
     "execution_count": 32,
     "metadata": {},
     "output_type": "execute_result"
    }
   ],
   "source": [
    "vacunacionCompleta = DatosC19_2[\"fullyvax_today\"]\n",
    "Valores_no_nulos = vacunacionCompleta.dropna().to_list()\n",
    "promedio = np.mean(Valores_no_nulos)  # Calculamos el promedio de los valores no nulos del DataFrame\n",
    "# Rellenar valores nulos con el valor medio\n",
    "for clave, valor in vacunacionCompleta.items():\n",
    "    if pd.isna(valor):\n",
    "        DatosC19_2.at[clave, \"fullyvax_today\"] = promedio\n",
    "# Verificar valores nulos\n",
    "DatosC19_2.isnull().sum()"
   ]
  },
  {
   "cell_type": "code",
   "execution_count": 33,
   "metadata": {},
   "outputs": [
    {
     "data": {
      "text/plain": [
       "report_date                      0\n",
       "county                           0\n",
       "county_population                0\n",
       "cumulative_cases                 0\n",
       "cumulative_tests_reportable      0\n",
       "cumulative_deaths                0\n",
       "cases_7days                      0\n",
       "tests_reportable_7days           0\n",
       "positive_naat_7days              0\n",
       "tests_naat_7days                 0\n",
       "naat_positivity_7days            0\n",
       "cumulative_positive_naat         0\n",
       "cumulative_tests_naat            0\n",
       "positive_ag_7days                0\n",
       "census_today                     0\n",
       "fullyvax_today                   0\n",
       "partialvax_today                 0\n",
       "nonvax_today                   348\n",
       "adddose_today                  348\n",
       "census_7days_ago               348\n",
       "census_change                  348\n",
       "census_not_fully_vax           348\n",
       "census_pct_not_fully_vax       539\n",
       "case_rate_weekly               348\n",
       "fips                           348\n",
       "data_updated                     0\n",
       "dtype: int64"
      ]
     },
     "execution_count": 33,
     "metadata": {},
     "output_type": "execute_result"
    }
   ],
   "source": [
    "vacunasParciales = DatosC19_2[\"partialvax_today\"]\n",
    "Valores_no_nulos = vacunasParciales.dropna().to_list()\n",
    "promedio = np.mean(Valores_no_nulos)  # Calculamos el promedio de los valores no nulos del DataFrame\n",
    "# Rellenar valores nulos con el valor medio\n",
    "for clave, valor in vacunasParciales.items():\n",
    "    if pd.isna(valor):\n",
    "        DatosC19_2.at[clave, \"partialvax_today\"] = promedio\n",
    "# Verificar valores nulos\n",
    "DatosC19_2.isnull().sum()"
   ]
  },
  {
   "cell_type": "code",
   "execution_count": 34,
   "metadata": {},
   "outputs": [
    {
     "data": {
      "text/plain": [
       "report_date                      0\n",
       "county                           0\n",
       "county_population                0\n",
       "cumulative_cases                 0\n",
       "cumulative_tests_reportable      0\n",
       "cumulative_deaths                0\n",
       "cases_7days                      0\n",
       "tests_reportable_7days           0\n",
       "positive_naat_7days              0\n",
       "tests_naat_7days                 0\n",
       "naat_positivity_7days            0\n",
       "cumulative_positive_naat         0\n",
       "cumulative_tests_naat            0\n",
       "positive_ag_7days                0\n",
       "census_today                     0\n",
       "fullyvax_today                   0\n",
       "partialvax_today                 0\n",
       "nonvax_today                     0\n",
       "adddose_today                  348\n",
       "census_7days_ago               348\n",
       "census_change                  348\n",
       "census_not_fully_vax           348\n",
       "census_pct_not_fully_vax       539\n",
       "case_rate_weekly               348\n",
       "fips                           348\n",
       "data_updated                     0\n",
       "dtype: int64"
      ]
     },
     "execution_count": 34,
     "metadata": {},
     "output_type": "execute_result"
    }
   ],
   "source": [
    "noVacunados = DatosC19_2[\"nonvax_today\"]\n",
    "Valores_no_nulos = noVacunados.dropna().to_list()\n",
    "promedio = np.mean(Valores_no_nulos)  # Calculamos el promedio de los valores no nulos del DataFrame\n",
    "# Rellenar valores nulos con el valor medio\n",
    "for clave, valor in noVacunados.items():\n",
    "    if pd.isna(valor):\n",
    "        DatosC19_2.at[clave, \"nonvax_today\"] = promedio\n",
    "# Verificar valores nulos\n",
    "DatosC19_2.isnull().sum()"
   ]
  },
  {
   "cell_type": "code",
   "execution_count": 35,
   "metadata": {},
   "outputs": [
    {
     "data": {
      "text/plain": [
       "report_date                      0\n",
       "county                           0\n",
       "county_population                0\n",
       "cumulative_cases                 0\n",
       "cumulative_tests_reportable      0\n",
       "cumulative_deaths                0\n",
       "cases_7days                      0\n",
       "tests_reportable_7days           0\n",
       "positive_naat_7days              0\n",
       "tests_naat_7days                 0\n",
       "naat_positivity_7days            0\n",
       "cumulative_positive_naat         0\n",
       "cumulative_tests_naat            0\n",
       "positive_ag_7days                0\n",
       "census_today                     0\n",
       "fullyvax_today                   0\n",
       "partialvax_today                 0\n",
       "nonvax_today                     0\n",
       "adddose_today                    0\n",
       "census_7days_ago               348\n",
       "census_change                  348\n",
       "census_not_fully_vax           348\n",
       "census_pct_not_fully_vax       539\n",
       "case_rate_weekly               348\n",
       "fips                           348\n",
       "data_updated                     0\n",
       "dtype: int64"
      ]
     },
     "execution_count": 35,
     "metadata": {},
     "output_type": "execute_result"
    }
   ],
   "source": [
    "dosis = DatosC19_2[\"adddose_today\"]\n",
    "Valores_no_nulos = dosis.dropna().to_list()\n",
    "promedio = np.mean(Valores_no_nulos)  # Calculamos el promedio de los valores no nulos del DataFrame\n",
    "# Rellenar valores nulos con el valor medio\n",
    "for clave, valor in dosis.items():\n",
    "    if pd.isna(valor):\n",
    "        DatosC19_2.at[clave, \"adddose_today\"] = promedio\n",
    "# Verificar valores nulos\n",
    "DatosC19_2.isnull().sum()"
   ]
  },
  {
   "cell_type": "code",
   "execution_count": 36,
   "metadata": {},
   "outputs": [
    {
     "data": {
      "text/plain": [
       "report_date                      0\n",
       "county                           0\n",
       "county_population                0\n",
       "cumulative_cases                 0\n",
       "cumulative_tests_reportable      0\n",
       "cumulative_deaths                0\n",
       "cases_7days                      0\n",
       "tests_reportable_7days           0\n",
       "positive_naat_7days              0\n",
       "tests_naat_7days                 0\n",
       "naat_positivity_7days            0\n",
       "cumulative_positive_naat         0\n",
       "cumulative_tests_naat            0\n",
       "positive_ag_7days                0\n",
       "census_today                     0\n",
       "fullyvax_today                   0\n",
       "partialvax_today                 0\n",
       "nonvax_today                     0\n",
       "adddose_today                    0\n",
       "census_7days_ago                 0\n",
       "census_change                  348\n",
       "census_not_fully_vax           348\n",
       "census_pct_not_fully_vax       539\n",
       "case_rate_weekly               348\n",
       "fips                           348\n",
       "data_updated                     0\n",
       "dtype: int64"
      ]
     },
     "execution_count": 36,
     "metadata": {},
     "output_type": "execute_result"
    }
   ],
   "source": [
    "censo7dias = DatosC19_2[\"census_7days_ago\"]\n",
    "Valores_no_nulos = censo7dias.dropna().to_list()\n",
    "promedio = np.mean(Valores_no_nulos)  # Calculamos el promedio de los valores no nulos del DataFrame\n",
    "# Rellenar valores nulos con el valor medio\n",
    "for clave, valor in censo7dias.items():\n",
    "    if pd.isna(valor):\n",
    "        DatosC19_2.at[clave, \"census_7days_ago\"] = promedio\n",
    "# Verificar valores nulos\n",
    "DatosC19_2.isnull().sum()"
   ]
  },
  {
   "cell_type": "code",
   "execution_count": 37,
   "metadata": {},
   "outputs": [
    {
     "data": {
      "text/plain": [
       "report_date                      0\n",
       "county                           0\n",
       "county_population                0\n",
       "cumulative_cases                 0\n",
       "cumulative_tests_reportable      0\n",
       "cumulative_deaths                0\n",
       "cases_7days                      0\n",
       "tests_reportable_7days           0\n",
       "positive_naat_7days              0\n",
       "tests_naat_7days                 0\n",
       "naat_positivity_7days            0\n",
       "cumulative_positive_naat         0\n",
       "cumulative_tests_naat            0\n",
       "positive_ag_7days                0\n",
       "census_today                     0\n",
       "fullyvax_today                   0\n",
       "partialvax_today                 0\n",
       "nonvax_today                     0\n",
       "adddose_today                    0\n",
       "census_7days_ago                 0\n",
       "census_change                    0\n",
       "census_not_fully_vax           348\n",
       "census_pct_not_fully_vax       539\n",
       "case_rate_weekly               348\n",
       "fips                           348\n",
       "data_updated                     0\n",
       "dtype: int64"
      ]
     },
     "execution_count": 37,
     "metadata": {},
     "output_type": "execute_result"
    }
   ],
   "source": [
    "cambioCenso = DatosC19_2[\"census_change\"]\n",
    "Valores_no_nulos = cambioCenso.dropna().to_list()\n",
    "promedio = np.mean(Valores_no_nulos)  # Calculamos el promedio de los valores no nulos del DataFrame\n",
    "# Rellenar valores nulos con el valor medio\n",
    "for clave, valor in cambioCenso.items():\n",
    "    if pd.isna(valor):\n",
    "        DatosC19_2.at[clave, \"census_change\"] = promedio\n",
    "# Verificar valores nulos\n",
    "DatosC19_2.isnull().sum()"
   ]
  },
  {
   "cell_type": "code",
   "execution_count": 38,
   "metadata": {},
   "outputs": [
    {
     "data": {
      "text/plain": [
       "report_date                      0\n",
       "county                           0\n",
       "county_population                0\n",
       "cumulative_cases                 0\n",
       "cumulative_tests_reportable      0\n",
       "cumulative_deaths                0\n",
       "cases_7days                      0\n",
       "tests_reportable_7days           0\n",
       "positive_naat_7days              0\n",
       "tests_naat_7days                 0\n",
       "naat_positivity_7days            0\n",
       "cumulative_positive_naat         0\n",
       "cumulative_tests_naat            0\n",
       "positive_ag_7days                0\n",
       "census_today                     0\n",
       "fullyvax_today                   0\n",
       "partialvax_today                 0\n",
       "nonvax_today                     0\n",
       "adddose_today                    0\n",
       "census_7days_ago                 0\n",
       "census_change                    0\n",
       "census_not_fully_vax             0\n",
       "census_pct_not_fully_vax       539\n",
       "case_rate_weekly               348\n",
       "fips                           348\n",
       "data_updated                     0\n",
       "dtype: int64"
      ]
     },
     "execution_count": 38,
     "metadata": {},
     "output_type": "execute_result"
    }
   ],
   "source": [
    "sinVacunacioncompleta = DatosC19_2[\"census_not_fully_vax\"]\n",
    "Valores_no_nulos = sinVacunacioncompleta.dropna().to_list()\n",
    "promedio = np.mean(Valores_no_nulos)  # Calculamos el promedio de los valores no nulos del DataFrame\n",
    "# Rellenar valores nulos con el valor medio\n",
    "for clave, valor in sinVacunacioncompleta.items():\n",
    "    if pd.isna(valor):\n",
    "        DatosC19_2.at[clave, \"census_not_fully_vax\"] = promedio\n",
    "# Verificar valores nulos\n",
    "DatosC19_2.isnull().sum()"
   ]
  },
  {
   "cell_type": "code",
   "execution_count": 39,
   "metadata": {},
   "outputs": [
    {
     "data": {
      "text/plain": [
       "report_date                      0\n",
       "county                           0\n",
       "county_population                0\n",
       "cumulative_cases                 0\n",
       "cumulative_tests_reportable      0\n",
       "cumulative_deaths                0\n",
       "cases_7days                      0\n",
       "tests_reportable_7days           0\n",
       "positive_naat_7days              0\n",
       "tests_naat_7days                 0\n",
       "naat_positivity_7days            0\n",
       "cumulative_positive_naat         0\n",
       "cumulative_tests_naat            0\n",
       "positive_ag_7days                0\n",
       "census_today                     0\n",
       "fullyvax_today                   0\n",
       "partialvax_today                 0\n",
       "nonvax_today                     0\n",
       "adddose_today                    0\n",
       "census_7days_ago                 0\n",
       "census_change                    0\n",
       "census_not_fully_vax             0\n",
       "census_pct_not_fully_vax         0\n",
       "case_rate_weekly               348\n",
       "fips                           348\n",
       "data_updated                     0\n",
       "dtype: int64"
      ]
     },
     "execution_count": 39,
     "metadata": {},
     "output_type": "execute_result"
    }
   ],
   "source": [
    "CensoSinvacunacion = DatosC19_2[\"census_pct_not_fully_vax\"]\n",
    "Valores_no_nulos = CensoSinvacunacion.dropna().to_list()\n",
    "# Rellenar todos los valores nolos exiuente con el valor medio\n",
    "promedio = np.mean(Valores_no_nulos)  # Calculamos el promedio de los valores no nulos del DataFrame\n",
    "CensoSinvacunacion.fillna(promedio, inplace=True)  # Reemplazamos los valores NaN\n",
    "# Verificar valores nulos\n",
    "DatosC19_2.isnull().sum()"
   ]
  },
  {
   "cell_type": "code",
   "execution_count": 40,
   "metadata": {},
   "outputs": [
    {
     "data": {
      "text/plain": [
       "report_date                      0\n",
       "county                           0\n",
       "county_population                0\n",
       "cumulative_cases                 0\n",
       "cumulative_tests_reportable      0\n",
       "cumulative_deaths                0\n",
       "cases_7days                      0\n",
       "tests_reportable_7days           0\n",
       "positive_naat_7days              0\n",
       "tests_naat_7days                 0\n",
       "naat_positivity_7days            0\n",
       "cumulative_positive_naat         0\n",
       "cumulative_tests_naat            0\n",
       "positive_ag_7days                0\n",
       "census_today                     0\n",
       "fullyvax_today                   0\n",
       "partialvax_today                 0\n",
       "nonvax_today                     0\n",
       "adddose_today                    0\n",
       "census_7days_ago                 0\n",
       "census_change                    0\n",
       "census_not_fully_vax             0\n",
       "census_pct_not_fully_vax         0\n",
       "case_rate_weekly                 0\n",
       "fips                           348\n",
       "data_updated                     0\n",
       "dtype: int64"
      ]
     },
     "execution_count": 40,
     "metadata": {},
     "output_type": "execute_result"
    }
   ],
   "source": [
    "rateoSemanal = DatosC19_2[\"case_rate_weekly\"]\n",
    "Valores_no_nulos = rateoSemanal.dropna().to_list()\n",
    "promedio = np.mean(Valores_no_nulos)  # Calculamos el promedio de los valores no nulos del DataFrame\n",
    "# Rellenar valores nulos con el valor medio\n",
    "rateoSemanal.fillna(promedio, inplace=True)  # Reemplazamos los valores NaN\n",
    "# Verificar valores nulos\n",
    "DatosC19_2.isnull().sum()"
   ]
  },
  {
   "cell_type": "code",
   "execution_count": 41,
   "metadata": {},
   "outputs": [
    {
     "data": {
      "text/plain": [
       "report_date                    0\n",
       "county                         0\n",
       "county_population              0\n",
       "cumulative_cases               0\n",
       "cumulative_tests_reportable    0\n",
       "cumulative_deaths              0\n",
       "cases_7days                    0\n",
       "tests_reportable_7days         0\n",
       "positive_naat_7days            0\n",
       "tests_naat_7days               0\n",
       "naat_positivity_7days          0\n",
       "cumulative_positive_naat       0\n",
       "cumulative_tests_naat          0\n",
       "positive_ag_7days              0\n",
       "census_today                   0\n",
       "fullyvax_today                 0\n",
       "partialvax_today               0\n",
       "nonvax_today                   0\n",
       "adddose_today                  0\n",
       "census_7days_ago               0\n",
       "census_change                  0\n",
       "census_not_fully_vax           0\n",
       "census_pct_not_fully_vax       0\n",
       "case_rate_weekly               0\n",
       "fips                           0\n",
       "data_updated                   0\n",
       "dtype: int64"
      ]
     },
     "execution_count": 41,
     "metadata": {},
     "output_type": "execute_result"
    }
   ],
   "source": [
    "fips = DatosC19_2[\"fips\"]\n",
    "Valores_no_nulos = fips.dropna().to_list()\n",
    "promedio = np.mean(Valores_no_nulos)  # Calculamos el promedio de los valores no nulos del DataFrame\n",
    "# Rellenar valores nulos con el valor medio\n",
    "fips.fillna(promedio, inplace=True)  # Reemplazamos los valores NaN\n",
    "# Verificar valores nulos\n",
    "DatosC19_2.isnull().sum()"
   ]
  },
  {
   "cell_type": "code",
   "execution_count": 42,
   "metadata": {},
   "outputs": [
    {
     "name": "stdout",
     "output_type": "stream",
     "text": [
      "Conexión exitosa\n",
      "Tabla creada en la base de datos MySQL\n",
      "Datos insertados en la tabla Filas afectadas: 3132\n"
     ]
    }
   ],
   "source": [
    "# Guardar el DataFrame en una base de datos MySQL\n",
    "conn = ConexionMySQL() # Instanciar la clase ConexionMySQL para obtener la conexión a BD\n",
    "try:\n",
    "    conectado = conn.Conexion(host=\"localhost\", user=\"root\", password=\"\", db=\"base_ad\")\n",
    "    if conectado:\n",
    "        print(\"Conexión exitosa\")\n",
    "        creacion = conn.Crear_tabla(dataframe=DatosC19_2, nombre_tabla=\"DatosC19\") # Crear la tabla en la base de datos\n",
    "        if creacion==0:\n",
    "            print(\"Tabla creada en la base de datos MySQL\")\n",
    "            insercion = conn.Insertar_desde_dataframe(nombre_tabla=\"DatosC19\", dataframe=DatosC19_2) # Insertar los registros en la tabla\n",
    "            if insercion>0:\n",
    "                print(\"Datos insertados en la tabla\", \"Filas afectadas:\", insercion)\n",
    "            else:\n",
    "                print(\"No se insertaron los registros\")\n",
    "        else:\n",
    "            print(\"No se creo la tabla\")\n",
    "    else:\n",
    "        print(\"Error en la conexión\")\n",
    "except Exception as e:\n",
    "    print(\"Error al insertar los registros:\", e)\n",
    "finally:\n",
    "    conn.Cerrar_conexion() # Cerrar la conexión a la base de datos"
   ]
  },
  {
   "cell_type": "code",
   "execution_count": 43,
   "metadata": {},
   "outputs": [],
   "source": [
    "DatosC19_2.to_csv(ruta_guardado_caso6+\"CasosCOVID.csv\",index=False, encoding=\"utf-8\")"
   ]
  }
 ],
 "metadata": {
  "kernelspec": {
   "display_name": "Python 3",
   "language": "python",
   "name": "python3"
  },
  "language_info": {
   "codemirror_mode": {
    "name": "ipython",
    "version": 3
   },
   "file_extension": ".py",
   "mimetype": "text/x-python",
   "name": "python",
   "nbconvert_exporter": "python",
   "pygments_lexer": "ipython3",
   "version": "3.12.2"
  }
 },
 "nbformat": 4,
 "nbformat_minor": 2
}
