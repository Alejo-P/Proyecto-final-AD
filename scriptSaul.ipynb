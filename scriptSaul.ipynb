{
 "cells": [
  {
   "cell_type": "code",
   "execution_count": 1,
   "id": "c711230f-957f-4ae1-a18f-0663c21ab20a",
   "metadata": {},
   "outputs": [
    {
     "name": "stdout",
     "output_type": "stream",
     "text": [
      "Requirement already satisfied: numpy in c:\\users\\megapc\\appdata\\local\\programs\\python\\python312\\lib\\site-packages (1.26.2)Note: you may need to restart the kernel to use updated packages.\n",
      "\n"
     ]
    }
   ],
   "source": [
    "pip install numpy\n"
   ]
  },
  {
   "cell_type": "code",
   "execution_count": 28,
   "id": "cdc983c1-52a2-47cd-9bbe-ddcb17a156bf",
   "metadata": {},
   "outputs": [],
   "source": [
    "import pandas as pd"
   ]
  },
  {
   "cell_type": "code",
   "execution_count": 29,
   "id": "a7d352a1-fbb9-4458-a6b0-458e6876a64e",
   "metadata": {},
   "outputs": [],
   "source": [
    "aves = pd.read_csv(\"especiesAvesEcuador.csv\", encoding='latin1')\n"
   ]
  },
  {
   "cell_type": "code",
   "execution_count": 30,
   "id": "9ee472bb-b420-4f2f-85c4-e578fdb14af8",
   "metadata": {},
   "outputs": [
    {
     "name": "stdout",
     "output_type": "stream",
     "text": [
      "     Column1               Nombre Común              Nombre Inglés  \\\n",
      "0          1                 Tinamú Tao               Grey Tinamou   \n",
      "1          2            Tinamú Olivaceo              Great Tinamou   \n",
      "2          3             Tinamú Sombrío          Cinereous Tinamou   \n",
      "3          4               Tinamú Chico             Little Tinamou   \n",
      "4          5            Tataupá Listado          Undulated Tinamou   \n",
      "..       ...                        ...                        ...   \n",
      "943      944      Carpintero Cara Negra   Black-cheeked Woodpecker   \n",
      "944      945    Carpintero Oliva Oscuro     Smoky-brown Woodpecker   \n",
      "945      946      Carpintero Culirrrojo      Red-rumped Woodpecker   \n",
      "946      947  Carpintero Dorsiescarlata  Scarlet-backed Woodpecker   \n",
      "947      948  Carpintero Ventriamarillo   Yellow-vented Woodpecker   \n",
      "\n",
      "               Nombre Portugués         Nombre Científico  Registros  \n",
      "0                       Azulona               Tinamus tao          1  \n",
      "1    Inhambu-de-cabeça-vermelha             Tinamus major          1  \n",
      "2                 Inhambu-preto     Crypturellus cinereus          1  \n",
      "3                       Tururim         Crypturellus soui          6  \n",
      "4                           Jaó    Crypturellus undulatus          3  \n",
      "..                          ...                       ...        ...  \n",
      "943          No Existe Registro      Melanerpes pucherani          8  \n",
      "944          No Existe Registro  Leuconotopicus fumigatus          3  \n",
      "945  Pica-pau-de-sobre-vermelho        Veniliornis kirkii          1  \n",
      "946          No Existe Registro    Veniliornis callonotus         10  \n",
      "947          No Existe Registro        Veniliornis dignus          1  \n",
      "\n",
      "[948 rows x 6 columns]\n"
     ]
    }
   ],
   "source": [
    "print(aves)"
   ]
  },
  {
   "cell_type": "code",
   "execution_count": 31,
   "id": "c38d511b-59df-488a-a4bb-5a80a65ab376",
   "metadata": {},
   "outputs": [
    {
     "data": {
      "text/plain": [
       "Column1              0\n",
       "Nombre Común         0\n",
       "Nombre Inglés        0\n",
       "Nombre Portugués     0\n",
       "Nombre Científico    0\n",
       "Registros            0\n",
       "dtype: int64"
      ]
     },
     "execution_count": 31,
     "metadata": {},
     "output_type": "execute_result"
    }
   ],
   "source": [
    "aves.isnull().sum()"
   ]
  },
  {
   "cell_type": "code",
   "execution_count": 32,
   "id": "a9bd9213-48b6-4685-9b13-2f7decafe595",
   "metadata": {},
   "outputs": [],
   "source": [
    "aves.to_csv('EspeciesAves.csv')\n"
   ]
  },
  {
   "cell_type": "code",
   "execution_count": null,
   "id": "7a7b9fa9-6fd3-4206-be9e-d27fe1f669ff",
   "metadata": {},
   "outputs": [],
   "source": []
  }
 ],
 "metadata": {
  "kernelspec": {
   "display_name": "Python 3 (ipykernel)",
   "language": "python",
   "name": "python3"
  },
  "language_info": {
   "codemirror_mode": {
    "name": "ipython",
    "version": 3
   },
   "file_extension": ".py",
   "mimetype": "text/x-python",
   "name": "python",
   "nbconvert_exporter": "python",
   "pygments_lexer": "ipython3",
   "version": "3.12.2"
  }
 },
 "nbformat": 4,
 "nbformat_minor": 5
}
