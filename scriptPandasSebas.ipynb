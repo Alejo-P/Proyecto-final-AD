{
 "cells": [
  {
   "cell_type": "code",
   "execution_count": 44,
   "id": "d99afe67-20fe-4803-9d3c-f4ce4829593c",
   "metadata": {},
   "outputs": [
    {
     "name": "stdout",
     "output_type": "stream",
     "text": [
      "Requirement already satisfied: pip in c:\\users\\usuario\\downloads\\erick sebastian - epn\\analisis de datos\\ejercicios\\lib\\site-packages (24.0)\n",
      "Note: you may need to restart the kernel to use updated packages.\n"
     ]
    }
   ],
   "source": [
    "pip install --upgrade pip"
   ]
  },
  {
   "cell_type": "code",
   "execution_count": 45,
   "id": "364c4af0-e276-4afb-ba19-9f6976152237",
   "metadata": {},
   "outputs": [
    {
     "name": "stdout",
     "output_type": "stream",
     "text": [
      "Requirement already satisfied: pandas in c:\\users\\usuario\\downloads\\erick sebastian - epn\\analisis de datos\\ejercicios\\lib\\site-packages (2.2.1)Note: you may need to restart the kernel to use updated packages.\n",
      "\n",
      "Requirement already satisfied: numpy<2,>=1.26.0 in c:\\users\\usuario\\downloads\\erick sebastian - epn\\analisis de datos\\ejercicios\\lib\\site-packages (from pandas) (1.26.3)\n",
      "Requirement already satisfied: python-dateutil>=2.8.2 in c:\\users\\usuario\\downloads\\erick sebastian - epn\\analisis de datos\\ejercicios\\lib\\site-packages (from pandas) (2.8.2)\n",
      "Requirement already satisfied: pytz>=2020.1 in c:\\users\\usuario\\downloads\\erick sebastian - epn\\analisis de datos\\ejercicios\\lib\\site-packages (from pandas) (2023.3.post1)\n",
      "Requirement already satisfied: tzdata>=2022.7 in c:\\users\\usuario\\downloads\\erick sebastian - epn\\analisis de datos\\ejercicios\\lib\\site-packages (from pandas) (2023.4)\n",
      "Requirement already satisfied: six>=1.5 in c:\\users\\usuario\\downloads\\erick sebastian - epn\\analisis de datos\\ejercicios\\lib\\site-packages (from python-dateutil>=2.8.2->pandas) (1.16.0)\n"
     ]
    }
   ],
   "source": [
    "pip install pandas"
   ]
  },
  {
   "cell_type": "code",
   "execution_count": 46,
   "id": "a5d65cf9-54c6-485f-b579-93cd18e75075",
   "metadata": {},
   "outputs": [
    {
     "name": "stdout",
     "output_type": "stream",
     "text": [
      "Requirement already satisfied: numpy in c:\\users\\usuario\\downloads\\erick sebastian - epn\\analisis de datos\\ejercicios\\lib\\site-packages (1.26.3)\n",
      "Note: you may need to restart the kernel to use updated packages.\n"
     ]
    }
   ],
   "source": [
    "pip install numpy"
   ]
  },
  {
   "cell_type": "code",
   "execution_count": 48,
   "id": "d80346de-a619-42d5-ab72-74b91f8ce1c7",
   "metadata": {},
   "outputs": [],
   "source": [
    "import pandas as pd"
   ]
  },
  {
   "cell_type": "code",
   "execution_count": 49,
   "id": "323ef6b9-f12e-4b10-9328-7eb9bc7865af",
   "metadata": {},
   "outputs": [],
   "source": [
    "# Cargar los datos del archivo CSV\n",
    "datos = pd.read_csv(\"eventosDiciembre23.csv\")\n"
   ]
  },
  {
   "cell_type": "code",
   "execution_count": 50,
   "id": "30c3f1df-98e8-4c06-9030-80beb45fd604",
   "metadata": {},
   "outputs": [
    {
     "name": "stdout",
     "output_type": "stream",
     "text": [
      "                             TIPO       FECHA   HORA  \\\n",
      "0   Eventos Deportivos Especiales  02/12/2023  15:00   \n",
      "1   Eventos Deportivos Especiales  09/12/2023  09:00   \n",
      "2   Eventos Deportivos Especiales  09/12/2023  09:00   \n",
      "3   Eventos Deportivos Especiales  10/12/2023  09:00   \n",
      "4   Eventos Deportivos Especiales  16/12/2023  09:00   \n",
      "5   Eventos Deportivos Especiales  16/12/2023  11:30   \n",
      "6   Eventos Deportivos Especiales  16/12/2023  15:00   \n",
      "7   Eventos Deportivos Especiales  16/12/2023  18:00   \n",
      "8   Eventos Deportivos Especiales  17/12/2023  09:00   \n",
      "9   Eventos Deportivos Especiales  18/12/2023  16:15   \n",
      "10  Eventos Deportivos Especiales  18/12/2023  19:00   \n",
      "11  Eventos Deportivos Especiales  19/12/2023  09:00   \n",
      "12  Eventos Deportivos Especiales  20/12/2023  18:00   \n",
      "13  Eventos Deportivos Especiales  21/12/2023  19:00   \n",
      "14  Eventos Deportivos Especiales  22/12/2023  09:00   \n",
      "15  Eventos Deportivos Especiales  29/12/2023  09:00   \n",
      "16  Eventos Deportivos Especiales  30/12/2023  10:00   \n",
      "\n",
      "                                          INSTALACIÓN  \\\n",
      "0                PISCINA COMPETICION CIUDAD DEPORTIVA   \n",
      "1                       PABELLON C.D. PRINCIPE FELIPE   \n",
      "2                   CAMPO DE FUTBOL VIRGEN DEL CARMEN   \n",
      "3                   CAMPO DE FUTBOL VIRGEN DEL CARMEN   \n",
      "4                       PABELLON C.D. PRINCIPE FELIPE   \n",
      "5             CAMPO FUTBOL ESTADIO MUNICIPAL DEPORTES   \n",
      "6                       PABELLON C.D. PRINCIPE FELIPE   \n",
      "7                            PLAZA DE LA CONSTITUCIÓN   \n",
      "8                       PABELLON C.D. PRINCIPE FELIPE   \n",
      "9                    PISCINA COMPETICION CD - CALLE 2   \n",
      "10                      PABELLON C.D. PRINCIPE FELIPE   \n",
      "11                      PABELLON C.D. PRINCIPE FELIPE   \n",
      "12                      PABELLON C.D. PRINCIPE FELIPE   \n",
      "13                          CENTRO MONTSERRAT CABALLE   \n",
      "14                          PABELLON ALBERTO HERREROS   \n",
      "15  PISTA DE ATLETISMO. ESTADIO MUNICIPAL DE DEPOR...   \n",
      "16                                 PISTA TENIS CD - 1   \n",
      "\n",
      "                                     ENTIDAD  \\\n",
      "0                      CLUB NATACION ARGANDA   \n",
      "1                                      -- --   \n",
      "2                                      .. ..   \n",
      "3                                      .. ..   \n",
      "4                                      -- --   \n",
      "5                                              \n",
      "6                                      -- --   \n",
      "7                     CLUB ATLETISMO ARGANDA   \n",
      "8                      CLUB KARATE IVAN LEAL   \n",
      "9                                      -- --   \n",
      "10                     CLUB KARATE IVAN LEAL   \n",
      "11                                     -- --   \n",
      "12                                     -- --   \n",
      "13                                     -- --   \n",
      "14  CONCEJALIA JUVENTUD E INFANCIA - ARGANDA   \n",
      "15                                     -- --   \n",
      "16                                     -- --   \n",
      "\n",
      "                                            ACTIVIDAD  \n",
      "0   II Jornada Escolar de Navidad Club de Natación...  \n",
      "1                                                 NaN  \n",
      "2                                                 NaN  \n",
      "3                                                 NaN  \n",
      "4                                                 NaN  \n",
      "5                                                 NaN  \n",
      "6                                                 NaN  \n",
      "7                  Legua de Navidad Atletismo Arganda  \n",
      "8                            Trofeo Navidad Katas FMK  \n",
      "9                                                 NaN  \n",
      "10     Exhibición de Navidad y Cambio de Grado Karate  \n",
      "11                                                NaN  \n",
      "12                                                NaN  \n",
      "13                                                NaN  \n",
      "14                        FIESTA DE NAVIDAD DEL CRIA.  \n",
      "15                                                NaN  \n",
      "16                                                NaN  \n"
     ]
    }
   ],
   "source": [
    "print(datos)"
   ]
  },
  {
   "cell_type": "code",
   "execution_count": 51,
   "id": "f413a805-7f31-43e1-9206-ba4c997bc769",
   "metadata": {},
   "outputs": [
    {
     "data": {
      "text/plain": [
       "TIPO            0\n",
       "FECHA           0\n",
       "HORA            0\n",
       "INSTALACIÓN     0\n",
       "ENTIDAD         0\n",
       "ACTIVIDAD      12\n",
       "dtype: int64"
      ]
     },
     "execution_count": 51,
     "metadata": {},
     "output_type": "execute_result"
    }
   ],
   "source": [
    "#Revisión de nulos\n",
    "datos.isnull().sum()"
   ]
  },
  {
   "cell_type": "code",
   "execution_count": 52,
   "id": "e76d9608-1b6a-437d-bbaf-b6028661ed57",
   "metadata": {},
   "outputs": [
    {
     "data": {
      "text/plain": [
       "TIPO           0\n",
       "FECHA          0\n",
       "HORA           0\n",
       "INSTALACIÓN    0\n",
       "ENTIDAD        0\n",
       "ACTIVIDAD      0\n",
       "dtype: int64"
      ]
     },
     "execution_count": 52,
     "metadata": {},
     "output_type": "execute_result"
    }
   ],
   "source": [
    "#Eliminar nulos\n",
    "datos1=datos.dropna()\n",
    "datos1.isnull().sum()"
   ]
  },
  {
   "cell_type": "code",
   "execution_count": 53,
   "id": "27dd9090-4454-4038-93e8-0fed8eefba87",
   "metadata": {},
   "outputs": [],
   "source": [
    "datos1.to_csv('eventosgenerales_2023.csv')"
   ]
  },
  {
   "cell_type": "code",
   "execution_count": null,
   "id": "03b9d39e-9126-4674-9acb-c0a8de337d5c",
   "metadata": {},
   "outputs": [],
   "source": []
  }
 ],
 "metadata": {
  "kernelspec": {
   "display_name": "Python 3 (ipykernel)",
   "language": "python",
   "name": "python3"
  },
  "language_info": {
   "codemirror_mode": {
    "name": "ipython",
    "version": 3
   },
   "file_extension": ".py",
   "mimetype": "text/x-python",
   "name": "python",
   "nbconvert_exporter": "python",
   "pygments_lexer": "ipython3",
   "version": "3.12.1"
  }
 },
 "nbformat": 4,
 "nbformat_minor": 5
}
